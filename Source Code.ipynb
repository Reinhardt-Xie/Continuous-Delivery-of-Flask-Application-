{
 "cells": [
  {
   "cell_type": "code",
   "execution_count": null,
   "metadata": {},
   "outputs": [],
   "source": [
    "# Create a project directory\n",
    "\n",
    "mkdir eb-flask\n",
    "\n",
    "cd eb-flask"
   ]
  },
  {
   "cell_type": "code",
   "execution_count": null,
   "metadata": {},
   "outputs": [],
   "source": [
    "# Create and activate a virtual environment \n",
    "\n",
    "virtualenv virt\n",
    "\n",
    "source virt/bin/activate\n"
   ]
  },
  {
   "cell_type": "code",
   "execution_count": null,
   "metadata": {},
   "outputs": [],
   "source": [
    "# Install flask with pip install\n",
    "\n",
    "pip3 install flask==1.0.2\n"
   ]
  },
  {
   "cell_type": "code",
   "execution_count": null,
   "metadata": {},
   "outputs": [],
   "source": [
    "# Save the output from pip freeze to a file named requirements.txt\n",
    "\n",
    "pip freeze > requirements.txt"
   ]
  },
  {
   "cell_type": "code",
   "execution_count": null,
   "metadata": {},
   "outputs": [],
   "source": [
    "# Create a flask application\n",
    "\n",
    "from flask import Flask\n",
    "\n",
    "import dash\n",
    "import dash_core_components as dcc\n",
    "import dash_html_components as html\n",
    "from   dash.dependencies import Input, Output, State\n",
    "\n",
    "import requests\n",
    "import json\n",
    "\n",
    "\n",
    "########### Initiate the app\n",
    "external_stylesheets = ['https://codepen.io/chriddyp/pen/bWLwgP.css']\n",
    "app = dash.Dash(__name__, external_stylesheets=external_stylesheets)\n",
    "\n",
    "\n",
    "application = app.server\n",
    "\n",
    "\n",
    "app.layout = html.Div([\n",
    "    html.H6(\"Prediction for Housing Prices in Beijing\"),\n",
    "    html.Div([\"Community Name: \",\n",
    "              dcc.Textarea(id='cus_input', value=\"central park\", style={'width': '100%'})]),\n",
    "\n",
    "    html.Br(),\n",
    "    html.Button('Predict', id='button_1'),\n",
    "\n",
    "    html.Br(),\n",
    "    html.Br(),\n",
    "    html.Div(id='my-output'),\n",
    "\n",
    "])\n",
    "#\n",
    "#BASE_URL = \"http://23.22.92.236:5000\"\n",
    "#\n",
    "#def test_analysis_emotion(text):\n",
    "#    data = {\n",
    "#        'text': text,\n",
    "#    }\n",
    "#\n",
    "#    try:\n",
    "#        header_dict = {\"Content-Type\": \"application/json\"}\n",
    "#        url = '{}/api/emotion'.format(BASE_URL)\n",
    "#        res = requests.post(url=url, data=json.dumps(data), headers=header_dict)\n",
    "#\n",
    "#        if res.status_code != 200:\n",
    "#            return \"Error occurs: {}\".format(res.text)\n",
    "#\n",
    "#        return json.loads(res.text)['result']\n",
    "#    except:\n",
    "#        return \"Error occurs\"\n",
    "\n",
    "\n",
    "@app.callback(\n",
    "    Output(component_id='my-output', component_property='children'),\n",
    "    Input(component_id=\"button_1\", component_property=\"n_clicks\"),\n",
    "    State(component_id='cus_input', component_property='value'),\n",
    "\n",
    "    prevent_initial_call=True\n",
    ")\n",
    "def update_output_div(n_clicks, input):\n",
    "    return 'RMB ' + '110000' + ' yuan'+ ' per square meter'\n",
    "\n",
    "\n",
    "if __name__ == '__main__':\n",
    "    app.run_server(debug=False)"
   ]
  },
  {
   "cell_type": "code",
   "execution_count": null,
   "metadata": {},
   "outputs": [],
   "source": [
    "# Run application.py with Python\n",
    "\n",
    "python application.py"
   ]
  },
  {
   "cell_type": "code",
   "execution_count": null,
   "metadata": {},
   "outputs": [],
   "source": [
    "# Push the documents to github\n",
    "\n",
    "git init\n",
    "\n",
    "git remote add origin https://github.com/Reinhardt-Xie/Continuous-Delivery-of-Flask-Application-.git\n",
    "git branch -M main\n",
    "git push -u origin main\n",
    "\n",
    "git add .\n",
    "git commit -m \"space\"\n",
    "git push"
   ]
  },
  {
   "cell_type": "code",
   "execution_count": null,
   "metadata": {},
   "outputs": [],
   "source": [
    "# To create an environment and deploy your flask application\n",
    "\n",
    "eb init -p python-3.6 flask-continue-delivery --region us-east-1"
   ]
  },
  {
   "cell_type": "code",
   "execution_count": null,
   "metadata": {},
   "outputs": [],
   "source": [
    "# Create an environment and deploy your application\n",
    "\n",
    "eb create flask-env\n",
    "\n",
    "eb open"
   ]
  },
  {
   "cell_type": "code",
   "execution_count": null,
   "metadata": {},
   "outputs": [],
   "source": []
  },
  {
   "cell_type": "code",
   "execution_count": null,
   "metadata": {},
   "outputs": [],
   "source": []
  },
  {
   "cell_type": "code",
   "execution_count": null,
   "metadata": {},
   "outputs": [],
   "source": []
  }
 ],
 "metadata": {
  "kernelspec": {
   "display_name": "Python 3",
   "language": "python",
   "name": "python3"
  },
  "language_info": {
   "codemirror_mode": {
    "name": "ipython",
    "version": 3
   },
   "file_extension": ".py",
   "mimetype": "text/x-python",
   "name": "python",
   "nbconvert_exporter": "python",
   "pygments_lexer": "ipython3",
   "version": "3.8.3"
  }
 },
 "nbformat": 4,
 "nbformat_minor": 4
}
